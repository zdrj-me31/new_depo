{
 "cells": [
  {
   "cell_type": "code",
   "execution_count": 8,
   "id": "77f5e870",
   "metadata": {},
   "outputs": [],
   "source": [
    "def positive_sum(arr):\n",
    "    # Your code here\n",
    "    posit = []\n",
    "    for x in range(len(arr)):\n",
    "        if arr[x] > 0:\n",
    "            posit.append(arr[x])\n",
    "            sum = 0\n",
    "            for x in posit:\n",
    "                sum += x\n",
    "            return sum\n",
    "        else:\n",
    "            return 0"
   ]
  },
  {
   "cell_type": "code",
   "execution_count": 10,
   "id": "e3122296",
   "metadata": {},
   "outputs": [
    {
     "data": {
      "text/plain": [
       "12"
      ]
     },
     "execution_count": 10,
     "metadata": {},
     "output_type": "execute_result"
    }
   ],
   "source": [
    "positive_sum([12, 23, 2333])\n",
    "positive_sum([12122, 2])"
   ]
  },
  {
   "cell_type": "code",
   "execution_count": null,
   "id": "c343c8de",
   "metadata": {},
   "outputs": [],
   "source": []
  }
 ],
 "metadata": {
  "interpreter": {
   "hash": "8c0a8bc3610744afc3e871a50ab11b788aeec24785d8b14db5d94a4625d6b90f"
  },
  "kernelspec": {
   "display_name": "Python 3.9.13 ('base')",
   "language": "python",
   "name": "python3"
  },
  "language_info": {
   "codemirror_mode": {
    "name": "ipython",
    "version": 3
   },
   "file_extension": ".py",
   "mimetype": "text/x-python",
   "name": "python",
   "nbconvert_exporter": "python",
   "pygments_lexer": "ipython3",
   "version": "3.9.13"
  }
 },
 "nbformat": 4,
 "nbformat_minor": 5
}
