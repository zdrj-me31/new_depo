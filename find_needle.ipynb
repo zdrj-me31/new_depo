{
 "cells": [
  {
   "cell_type": "code",
   "execution_count": 9,
   "id": "e417e75b",
   "metadata": {},
   "outputs": [],
   "source": [
    "#program finding 'needle' in array and returns string\n",
    "def find_needle(a):\n",
    "    return f\"Found a needle at the position {a.index('needle')}\""
   ]
  },
  {
   "cell_type": "code",
   "execution_count": 11,
   "id": "05a4bf7a",
   "metadata": {},
   "outputs": [
    {
     "data": {
      "text/plain": [
       "'Found a needle at the position 5'"
      ]
     },
     "execution_count": 11,
     "metadata": {},
     "output_type": "execute_result"
    }
   ],
   "source": [
    "find_needle(['3', '123124234','shit', \n",
    "             'jebie_gownem',None, 'needle', 'world',\n",
    "             'hay', 2, '3', True, False])"
   ]
  },
  {
   "cell_type": "code",
   "execution_count": 12,
   "id": "5e40f8c3",
   "metadata": {},
   "outputs": [
    {
     "data": {
      "text/plain": [
       "'Found a needle at the position 3'"
      ]
     },
     "execution_count": 12,
     "metadata": {},
     "output_type": "execute_result"
    }
   ],
   "source": [
    "find_needle([122121323, 232212, 22212, 'needle', 'wordlw323', '22322wx'])"
   ]
  },
  {
   "cell_type": "code",
   "execution_count": null,
   "id": "9f2a73d5",
   "metadata": {},
   "outputs": [],
   "source": []
  }
 ],
 "metadata": {
  "kernelspec": {
   "display_name": "Python 3 (ipykernel)",
   "language": "python",
   "name": "python3"
  },
  "language_info": {
   "codemirror_mode": {
    "name": "ipython",
    "version": 3
   },
   "file_extension": ".py",
   "mimetype": "text/x-python",
   "name": "python",
   "nbconvert_exporter": "python",
   "pygments_lexer": "ipython3",
   "version": "3.9.12"
  }
 },
 "nbformat": 4,
 "nbformat_minor": 5
}
