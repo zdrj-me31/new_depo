{
 "cells": [
  {
   "cell_type": "markdown",
   "metadata": {},
   "source": [
    "You own an online shop where you sell rings with custom engravings. You offer both gold plated and solid gold rings.\n",
    "\n",
    "Gold plated rings have a base cost of $50, and you charge $7 per engraved unit.\n",
    "Solid gold rings have a base cost of $100, and you charge $10 per engraved unit.\n",
    "Spaces and punctuation are counted as engraved units.\n",
    "Write a function cost_of_project() that takes two arguments:\n",
    "\n",
    "engraving - a Python string with the text of the engraving\n",
    "solid_gold - a Boolean that indicates whether the ring is solid gold\n",
    "It should return the cost of the project. This question should be fairly challenging, and you may need a hint."
   ]
  },
  {
   "cell_type": "code",
   "execution_count": 2,
   "metadata": {},
   "outputs": [],
   "source": [
    "def cost_of_project(engraving, solid_gold):\n",
    "    \"\"\"Gives a cost of engraving depends on length and if gold or not.\n",
    "\n",
    "    Args:\n",
    "        engraving (string): Text to engrave\n",
    "        solid_gold (boolean): If it should be solid gold or gold plated\n",
    "\n",
    "    Returns:\n",
    "        int: Cost of project\n",
    "    \"\"\"\n",
    "    cost = solid_gold * (len(engraving) * 10 + 100) + (not solid_gold) * (len(engraving) * 7 + 50)\n",
    "    return cost"
   ]
  },
  {
   "cell_type": "code",
   "execution_count": 3,
   "metadata": {},
   "outputs": [
    {
     "name": "stdout",
     "output_type": "stream",
     "text": [
      "Cost for the first project: 180$.\n"
     ]
    }
   ],
   "source": [
    "# First example using 'love Tom' and it should be gold\n",
    "engraving_example = 'love Tom'\n",
    "first_project = cost_of_project(engraving_example, solid_gold=True)\n",
    "print(f'Cost for the first project: {first_project}$.')"
   ]
  },
  {
   "cell_type": "code",
   "execution_count": 4,
   "metadata": {},
   "outputs": [
    {
     "name": "stdout",
     "output_type": "stream",
     "text": [
      "Second project will cost you: 155$.\n"
     ]
    }
   ],
   "source": [
    "# Second example using 'Hogwards Legacy' and it is not gold\n",
    "engraving_example_2 = 'Hogwards Legacy'\n",
    "second_project = cost_of_project(engraving_example_2, False)\n",
    "print(f'Second project will cost you: {second_project}$.')"
   ]
  },
  {
   "cell_type": "code",
   "execution_count": 8,
   "metadata": {},
   "outputs": [
    {
     "name": "stdout",
     "output_type": "stream",
     "text": [
      "Please pay for the second project. We do not have enough money.\n"
     ]
    }
   ],
   "source": [
    "# Which project is more affordable\n",
    "def affordable(first_project, second_project):\n",
    "    \"\"\"Gives us which project is more affordable.\n",
    "\n",
    "    Args:\n",
    "        first_project (int): value of first project\n",
    "        second_project (int): value of second project\n",
    "    \"\"\"\n",
    "    if first_project > second_project:\n",
    "        print('Please pay for the second project. We do not have enough money.')\n",
    "    elif first_project == second_project:\n",
    "        print('We can pay for both you decide.')\n",
    "    else:\n",
    "        print('Please pay for the first project.')\n",
    "        \n",
    "our_choice = affordable(first_project, second_project)\n",
    "our_choice"
   ]
  },
  {
   "cell_type": "code",
   "execution_count": 9,
   "metadata": {},
   "outputs": [],
   "source": [
    "# another solution\n",
    "def cost_of_project(engraving, gold_base):\n",
    "    value = 0\n",
    "    if gold_base:\n",
    "        value += value + (len(engraving) * 10 + 100)\n",
    "    else:\n",
    "        value += value + (len(engraving) * 7 + 50)\n",
    "    return value"
   ]
  },
  {
   "cell_type": "code",
   "execution_count": null,
   "metadata": {},
   "outputs": [],
   "source": []
  }
 ],
 "metadata": {
  "interpreter": {
   "hash": "aee8b7b246df8f9039afb4144a1f6fd8d2ca17a180786b69acc140d282b71a49"
  },
  "kernelspec": {
   "display_name": "Python 3.10.5 64-bit",
   "language": "python",
   "name": "python3"
  },
  "language_info": {
   "codemirror_mode": {
    "name": "ipython",
    "version": 3
   },
   "file_extension": ".py",
   "mimetype": "text/x-python",
   "name": "python",
   "nbconvert_exporter": "python",
   "pygments_lexer": "ipython3",
   "version": "3.10.5"
  },
  "orig_nbformat": 4
 },
 "nbformat": 4,
 "nbformat_minor": 2
}
